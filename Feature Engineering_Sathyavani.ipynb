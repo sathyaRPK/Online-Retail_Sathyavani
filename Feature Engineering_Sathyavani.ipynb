{
 "cells": [
  {
   "cell_type": "markdown",
   "id": "3ace64ab-b4ae-4035-aec6-8e983091af8d",
   "metadata": {},
   "source": [
    "Feature Engineering"
   ]
  },
  {
   "cell_type": "code",
   "execution_count": 2,
   "id": "ff1918ee-2bcb-41ba-a097-391458eac266",
   "metadata": {},
   "outputs": [],
   "source": [
    "import pandas as pd\n",
    "from sklearn.preprocessing import StandardScaler"
   ]
  },
  {
   "cell_type": "code",
   "execution_count": 3,
   "id": "5cc41e02-c470-4a20-a45d-94a5d792bb4e",
   "metadata": {},
   "outputs": [],
   "source": [
    "# Load dataset\n",
    "sathya = pd.read_csv('Online Retail.csv', encoding='ISO-8859-1')"
   ]
  },
  {
   "cell_type": "code",
   "execution_count": 4,
   "id": "9f4795eb-640c-40f5-b98c-5ef2fa271030",
   "metadata": {},
   "outputs": [],
   "source": [
    "# Handling missing values\n",
    "sathya.dropna(subset=['CustomerID'], inplace=True)"
   ]
  },
  {
   "cell_type": "code",
   "execution_count": 5,
   "id": "09213d67-fdc1-46fc-9a6b-4e426ec09242",
   "metadata": {},
   "outputs": [],
   "source": [
    "# Feature Engineering\n",
    "## Creating Frequency feature\n",
    "frequency_df = sathya.groupby('CustomerID').InvoiceNo.nunique().reset_index()\n",
    "frequency_df.columns = ['CustomerID', 'Frequency']"
   ]
  },
  {
   "cell_type": "code",
   "execution_count": 6,
   "id": "a2b59cb2-8e88-402b-b9e9-f2d740357619",
   "metadata": {},
   "outputs": [],
   "source": [
    "## Creating Amount feature\n",
    "sathya['TotalAmount'] = sathya['Quantity'] * sathya['UnitPrice']\n",
    "amount_df = sathya.groupby('CustomerID').TotalAmount.sum().reset_index()\n",
    "amount_df.columns = ['CustomerID', 'Amount']"
   ]
  },
  {
   "cell_type": "code",
   "execution_count": 7,
   "id": "f16271e2-af10-4fd8-9e0f-fe4c33c5f434",
   "metadata": {},
   "outputs": [],
   "source": [
    "## Creating Recency feature\n",
    "sathya['InvoiceDate'] = pd.to_datetime(sathya['InvoiceDate'], format='%d-%m-%Y %H:%M', errors='coerce')\n",
    "latest_date = sathya['InvoiceDate'].max()\n",
    "recency_df = sathya.groupby('CustomerID').InvoiceDate.max().reset_index()\n",
    "recency_df['Recency'] = (latest_date - recency_df['InvoiceDate']).dt.days\n",
    "recency_df = recency_df[['CustomerID', 'Recency']]"
   ]
  },
  {
   "cell_type": "code",
   "execution_count": 8,
   "id": "1bd24c3a-a3a2-4b4e-9b1d-366908065f9a",
   "metadata": {},
   "outputs": [],
   "source": [
    "# Merging all features\n",
    "final_df = frequency_df.merge(amount_df, on='CustomerID').merge(recency_df, on='CustomerID')"
   ]
  },
  {
   "cell_type": "code",
   "execution_count": 9,
   "id": "04b82a29-586b-4953-871a-929558d8cbe4",
   "metadata": {},
   "outputs": [],
   "source": [
    "# Scaling features\n",
    "scaler = StandardScaler()\n",
    "final_df[['Frequency', 'Amount', 'Recency']] = scaler.fit_transform(final_df[['Frequency', 'Amount', 'Recency']])    "
   ]
  },
  {
   "cell_type": "code",
   "execution_count": 10,
   "id": "fe448b4b-eae5-40dd-96d4-3f020ed77d6c",
   "metadata": {},
   "outputs": [],
   "source": [
    "# Save processed data for clustering\n",
    "final_df.to_csv('processed_features.csv', index=False)"
   ]
  },
  {
   "cell_type": "code",
   "execution_count": 11,
   "id": "8c0249f1-e158-428b-8344-6c26e4fac8cd",
   "metadata": {},
   "outputs": [
    {
     "name": "stdout",
     "output_type": "stream",
     "text": [
      "Feature Engineering Completed. File saved as 'processed_features.csv'\n"
     ]
    }
   ],
   "source": [
    "print(\"Feature Engineering Completed. File saved as 'processed_features.csv'\")"
   ]
  }
 ],
 "metadata": {
  "kernelspec": {
   "display_name": "Python 3 (ipykernel)",
   "language": "python",
   "name": "python3"
  },
  "language_info": {
   "codemirror_mode": {
    "name": "ipython",
    "version": 3
   },
   "file_extension": ".py",
   "mimetype": "text/x-python",
   "name": "python",
   "nbconvert_exporter": "python",
   "pygments_lexer": "ipython3",
   "version": "3.12.4"
  }
 },
 "nbformat": 4,
 "nbformat_minor": 5
}
